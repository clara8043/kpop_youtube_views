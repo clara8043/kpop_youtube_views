{
 "cells": [
  {
   "cell_type": "markdown",
   "id": "704242aa",
   "metadata": {},
   "source": [
    "Import Libraries"
   ]
  },
  {
   "cell_type": "code",
   "execution_count": 2,
   "id": "998ce85c",
   "metadata": {},
   "outputs": [],
   "source": [
    "import matplotlib as plt\n",
    "import numpy as np\n",
    "import pandas as pd"
   ]
  },
  {
   "cell_type": "markdown",
   "id": "27b87e2b",
   "metadata": {},
   "source": [
    "Import Data"
   ]
  },
  {
   "cell_type": "code",
   "execution_count": 23,
   "id": "1ac3f1ab",
   "metadata": {},
   "outputs": [],
   "source": [
    "df_dream = pd.read_csv('nct_dream_data.csv')\n",
    "df_127 = pd.read_csv('nct_127_data.csv')"
   ]
  },
  {
   "cell_type": "markdown",
   "id": "8f2f7a13",
   "metadata": {},
   "source": [
    "Visualize dataframe"
   ]
  },
  {
   "cell_type": "code",
   "execution_count": 24,
   "id": "4baddf98",
   "metadata": {},
   "outputs": [],
   "source": [
    "#Change publishedAt format to datetime (only date)\n",
    "\n",
    "def to_date(iso_datetime):\n",
    "    date = iso_datetime.split('T')[0]\n",
    "    return date\n",
    "\n",
    "df_dream['publishedAt'] = pd.to_datetime(df_dream['publishedAt'].apply(to_date))\n",
    "df_127['publishedAt'] = pd.to_datetime(df_127['publishedAt'].apply(to_date))"
   ]
  },
  {
   "cell_type": "code",
   "execution_count": 29,
   "id": "3a5c719b",
   "metadata": {},
   "outputs": [
    {
     "data": {
      "text/plain": [
       "<AxesSubplot:xlabel='publishedAt', ylabel='viewCount'>"
      ]
     },
     "execution_count": 29,
     "metadata": {},
     "output_type": "execute_result"
    },
    {
     "data": {
      "image/png": "[encoded data removed]",
      "text/plain": [
       "<Figure size 432x288 with 1 Axes>"
      ]
     },
     "metadata": {
      "needs_background": "light"
     },
     "output_type": "display_data"
    }
   ],
   "source": [
    "#Remove Shorts\n",
    "df_dream.drop(df_dream[df_dream['Category']=='Shorts'].index)\n",
    "df_dream_jakun = df_dream[df_dream['Category']==\"Jakun\"]\n",
    "df_dream_jakun.plot(x=\"publishedAt\", y=\"viewCount\", kind=\"scatter\")"
   ]
  }
 ],
 "metadata": {
  "kernelspec": {
   "display_name": "Python 3",
   "language": "python",
   "name": "python3"
  },
  "language_info": {
   "codemirror_mode": {
    "name": "ipython",
    "version": 3
   },
   "file_extension": ".py",
   "mimetype": "text/x-python",
   "name": "python",
   "nbconvert_exporter": "python",
   "pygments_lexer": "ipython3",
   "version": "3.8.8"
  }
 },
 "nbformat": 4,
 "nbformat_minor": 5
}
