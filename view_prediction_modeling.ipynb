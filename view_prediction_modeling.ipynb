{
 "cells": [
  {
   "cell_type": "markdown",
   "id": "704242aa",
   "metadata": {},
   "source": [
    "Import Libraries"
   ]
  },
  {
   "cell_type": "code",
   "execution_count": 1,
   "id": "998ce85c",
   "metadata": {},
   "outputs": [],
   "source": [
    "import numpy as np\n",
    "import pandas as pd\n",
    "import matplotlib.pyplot as plt\n",
    "%matplotlib inline\n",
    "\n",
    "import sys\n",
    "import gc\n",
    "import datetime as datetime\n",
    "import warnings\n",
    "warnings.filterwarnings(\"ignore\")"
   ]
  },
  {
   "cell_type": "markdown",
   "id": "27b87e2b",
   "metadata": {},
   "source": [
    "Import Data"
   ]
  },
  {
   "cell_type": "code",
   "execution_count": 2,
   "id": "1ac3f1ab",
   "metadata": {},
   "outputs": [
    {
     "data": {
      "text/html": [
       "<div>\n",
       "<style scoped>\n",
       "    .dataframe tbody tr th:only-of-type {\n",
       "        vertical-align: middle;\n",
       "    }\n",
       "\n",
       "    .dataframe tbody tr th {\n",
       "        vertical-align: top;\n",
       "    }\n",
       "\n",
       "    .dataframe thead th {\n",
       "        text-align: right;\n",
       "    }\n",
       "</style>\n",
       "<table border=\"1\" class=\"dataframe\">\n",
       "  <thead>\n",
       "    <tr style=\"text-align: right;\">\n",
       "      <th></th>\n",
       "      <th>title</th>\n",
       "      <th>publishedAt</th>\n",
       "      <th>viewCount</th>\n",
       "      <th>likeCount</th>\n",
       "      <th>commentCount</th>\n",
       "      <th>duration</th>\n",
       "      <th>memberCount</th>\n",
       "      <th>category</th>\n",
       "      <th>keywords</th>\n",
       "      <th>subscriberCount</th>\n",
       "    </tr>\n",
       "  </thead>\n",
       "  <tbody>\n",
       "    <tr>\n",
       "      <th>0</th>\n",
       "      <td>DREAM SKETCH : Page #1 - Concert Meeting, Post...</td>\n",
       "      <td>2022-11-25T13:00:40Z</td>\n",
       "      <td>411160</td>\n",
       "      <td>56214</td>\n",
       "      <td>1624</td>\n",
       "      <td>1682</td>\n",
       "      <td>NaN</td>\n",
       "      <td>NaN</td>\n",
       "      <td>NaN</td>\n",
       "      <td>5.34</td>\n",
       "    </tr>\n",
       "    <tr>\n",
       "      <th>1</th>\n",
       "      <td>NCT DREAM THE MOVIE : In A DREAM | ScreenX Tra...</td>\n",
       "      <td>2022-11-24T23:00:09Z</td>\n",
       "      <td>112087</td>\n",
       "      <td>23301</td>\n",
       "      <td>350</td>\n",
       "      <td>31</td>\n",
       "      <td>NaN</td>\n",
       "      <td>NaN</td>\n",
       "      <td>NaN</td>\n",
       "      <td>5.34</td>\n",
       "    </tr>\n",
       "    <tr>\n",
       "      <th>2</th>\n",
       "      <td>????NCTzens ??????????????????? #NAGOYA#NCTDRE...</td>\n",
       "      <td>2022-11-24T04:27:05Z</td>\n",
       "      <td>91345</td>\n",
       "      <td>24341</td>\n",
       "      <td>140</td>\n",
       "      <td>37</td>\n",
       "      <td>NaN</td>\n",
       "      <td>NaN</td>\n",
       "      <td>NaN</td>\n",
       "      <td>5.34</td>\n",
       "    </tr>\n",
       "    <tr>\n",
       "      <th>3</th>\n",
       "      <td>???????????? ??? ?????????????? ??? ??? ?????...</td>\n",
       "      <td>2022-11-23T13:00:17Z</td>\n",
       "      <td>772833</td>\n",
       "      <td>101486</td>\n",
       "      <td>2409</td>\n",
       "      <td>1157</td>\n",
       "      <td>NaN</td>\n",
       "      <td>NaN</td>\n",
       "      <td>NaN</td>\n",
       "      <td>5.34</td>\n",
       "    </tr>\n",
       "    <tr>\n",
       "      <th>4</th>\n",
       "      <td>NCT DREAM THE MOVIE : In A DREAM | ScreenX Tra...</td>\n",
       "      <td>2022-11-17T23:00:21Z</td>\n",
       "      <td>168691</td>\n",
       "      <td>31192</td>\n",
       "      <td>474</td>\n",
       "      <td>31</td>\n",
       "      <td>NaN</td>\n",
       "      <td>NaN</td>\n",
       "      <td>NaN</td>\n",
       "      <td>5.32</td>\n",
       "    </tr>\n",
       "  </tbody>\n",
       "</table>\n",
       "</div>"
      ],
      "text/plain": [
       "                                               title           publishedAt  \\\n",
       "0  DREAM SKETCH : Page #1 - Concert Meeting, Post...  2022-11-25T13:00:40Z   \n",
       "1  NCT DREAM THE MOVIE : In A DREAM | ScreenX Tra...  2022-11-24T23:00:09Z   \n",
       "2  ????NCTzens ??????????????????? #NAGOYA#NCTDRE...  2022-11-24T04:27:05Z   \n",
       "3  ???????????? ??? ?????????????? ??? ??? ?????...  2022-11-23T13:00:17Z   \n",
       "4  NCT DREAM THE MOVIE : In A DREAM | ScreenX Tra...  2022-11-17T23:00:21Z   \n",
       "\n",
       "   viewCount  likeCount  commentCount  duration  memberCount category  \\\n",
       "0     411160      56214          1624      1682          NaN      NaN   \n",
       "1     112087      23301           350        31          NaN      NaN   \n",
       "2      91345      24341           140        37          NaN      NaN   \n",
       "3     772833     101486          2409      1157          NaN      NaN   \n",
       "4     168691      31192           474        31          NaN      NaN   \n",
       "\n",
       "  keywords  subscriberCount  \n",
       "0      NaN             5.34  \n",
       "1      NaN             5.34  \n",
       "2      NaN             5.34  \n",
       "3      NaN             5.34  \n",
       "4      NaN             5.32  "
      ]
     },
     "execution_count": 2,
     "metadata": {},
     "output_type": "execute_result"
    }
   ],
   "source": [
    "df = pd.read_csv('nct_dream_data.csv',encoding = 'unicode_escape')\n",
    "df.head()"
   ]
  },
  {
   "cell_type": "markdown",
   "id": "8f2f7a13",
   "metadata": {},
   "source": [
    "# Data Wrangling"
   ]
  },
  {
   "cell_type": "markdown",
   "id": "1173a6a4",
   "metadata": {},
   "source": [
    "**Change the string of 'publishedAt' to DateTime** <br>"
   ]
  },
  {
   "cell_type": "code",
   "execution_count": 3,
   "id": "4baddf98",
   "metadata": {},
   "outputs": [
    {
     "data": {
      "text/html": [
       "<div>\n",
       "<style scoped>\n",
       "    .dataframe tbody tr th:only-of-type {\n",
       "        vertical-align: middle;\n",
       "    }\n",
       "\n",
       "    .dataframe tbody tr th {\n",
       "        vertical-align: top;\n",
       "    }\n",
       "\n",
       "    .dataframe thead th {\n",
       "        text-align: right;\n",
       "    }\n",
       "</style>\n",
       "<table border=\"1\" class=\"dataframe\">\n",
       "  <thead>\n",
       "    <tr style=\"text-align: right;\">\n",
       "      <th></th>\n",
       "      <th>title</th>\n",
       "      <th>publishedAt</th>\n",
       "      <th>viewCount</th>\n",
       "      <th>likeCount</th>\n",
       "      <th>commentCount</th>\n",
       "      <th>duration</th>\n",
       "      <th>memberCount</th>\n",
       "      <th>category</th>\n",
       "      <th>keywords</th>\n",
       "      <th>subscriberCount</th>\n",
       "    </tr>\n",
       "  </thead>\n",
       "  <tbody>\n",
       "    <tr>\n",
       "      <th>0</th>\n",
       "      <td>DREAM SKETCH : Page #1 - Concert Meeting, Post...</td>\n",
       "      <td>2022-11-25</td>\n",
       "      <td>411160</td>\n",
       "      <td>56214</td>\n",
       "      <td>1624</td>\n",
       "      <td>1682</td>\n",
       "      <td>NaN</td>\n",
       "      <td>NaN</td>\n",
       "      <td>NaN</td>\n",
       "      <td>5.34</td>\n",
       "    </tr>\n",
       "    <tr>\n",
       "      <th>1</th>\n",
       "      <td>NCT DREAM THE MOVIE : In A DREAM | ScreenX Tra...</td>\n",
       "      <td>2022-11-24</td>\n",
       "      <td>112087</td>\n",
       "      <td>23301</td>\n",
       "      <td>350</td>\n",
       "      <td>31</td>\n",
       "      <td>NaN</td>\n",
       "      <td>NaN</td>\n",
       "      <td>NaN</td>\n",
       "      <td>5.34</td>\n",
       "    </tr>\n",
       "    <tr>\n",
       "      <th>2</th>\n",
       "      <td>????NCTzens ??????????????????? #NAGOYA#NCTDRE...</td>\n",
       "      <td>2022-11-24</td>\n",
       "      <td>91345</td>\n",
       "      <td>24341</td>\n",
       "      <td>140</td>\n",
       "      <td>37</td>\n",
       "      <td>NaN</td>\n",
       "      <td>NaN</td>\n",
       "      <td>NaN</td>\n",
       "      <td>5.34</td>\n",
       "    </tr>\n",
       "    <tr>\n",
       "      <th>3</th>\n",
       "      <td>???????????? ??? ?????????????? ??? ??? ?????...</td>\n",
       "      <td>2022-11-23</td>\n",
       "      <td>772833</td>\n",
       "      <td>101486</td>\n",
       "      <td>2409</td>\n",
       "      <td>1157</td>\n",
       "      <td>NaN</td>\n",
       "      <td>NaN</td>\n",
       "      <td>NaN</td>\n",
       "      <td>5.34</td>\n",
       "    </tr>\n",
       "    <tr>\n",
       "      <th>4</th>\n",
       "      <td>NCT DREAM THE MOVIE : In A DREAM | ScreenX Tra...</td>\n",
       "      <td>2022-11-17</td>\n",
       "      <td>168691</td>\n",
       "      <td>31192</td>\n",
       "      <td>474</td>\n",
       "      <td>31</td>\n",
       "      <td>NaN</td>\n",
       "      <td>NaN</td>\n",
       "      <td>NaN</td>\n",
       "      <td>5.32</td>\n",
       "    </tr>\n",
       "  </tbody>\n",
       "</table>\n",
       "</div>"
      ],
      "text/plain": [
       "                                               title publishedAt  viewCount  \\\n",
       "0  DREAM SKETCH : Page #1 - Concert Meeting, Post...  2022-11-25     411160   \n",
       "1  NCT DREAM THE MOVIE : In A DREAM | ScreenX Tra...  2022-11-24     112087   \n",
       "2  ????NCTzens ??????????????????? #NAGOYA#NCTDRE...  2022-11-24      91345   \n",
       "3  ???????????? ??? ?????????????? ??? ??? ?????...  2022-11-23     772833   \n",
       "4  NCT DREAM THE MOVIE : In A DREAM | ScreenX Tra...  2022-11-17     168691   \n",
       "\n",
       "   likeCount  commentCount  duration  memberCount category keywords  \\\n",
       "0      56214          1624      1682          NaN      NaN      NaN   \n",
       "1      23301           350        31          NaN      NaN      NaN   \n",
       "2      24341           140        37          NaN      NaN      NaN   \n",
       "3     101486          2409      1157          NaN      NaN      NaN   \n",
       "4      31192           474        31          NaN      NaN      NaN   \n",
       "\n",
       "   subscriberCount  \n",
       "0             5.34  \n",
       "1             5.34  \n",
       "2             5.34  \n",
       "3             5.34  \n",
       "4             5.32  "
      ]
     },
     "execution_count": 3,
     "metadata": {},
     "output_type": "execute_result"
    }
   ],
   "source": [
    "#Change publishedAt format to datetime (only date)\n",
    "def to_date(iso_datetime):\n",
    "    date = iso_datetime.split('T')[0]\n",
    "    return date\n",
    "\n",
    "df['publishedAt'] = pd.to_datetime(df['publishedAt'].apply(to_date))\n",
    "df.head()"
   ]
  },
  {
   "cell_type": "markdown",
   "id": "929f671c",
   "metadata": {},
   "source": [
    "**Add the duration of days past since the data is collected**"
   ]
  },
  {
   "cell_type": "code",
   "execution_count": 4,
   "id": "eada89a8",
   "metadata": {},
   "outputs": [
    {
     "data": {
      "text/html": [
       "<div>\n",
       "<style scoped>\n",
       "    .dataframe tbody tr th:only-of-type {\n",
       "        vertical-align: middle;\n",
       "    }\n",
       "\n",
       "    .dataframe tbody tr th {\n",
       "        vertical-align: top;\n",
       "    }\n",
       "\n",
       "    .dataframe thead th {\n",
       "        text-align: right;\n",
       "    }\n",
       "</style>\n",
       "<table border=\"1\" class=\"dataframe\">\n",
       "  <thead>\n",
       "    <tr style=\"text-align: right;\">\n",
       "      <th></th>\n",
       "      <th>title</th>\n",
       "      <th>publishedAt</th>\n",
       "      <th>viewCount</th>\n",
       "      <th>likeCount</th>\n",
       "      <th>commentCount</th>\n",
       "      <th>duration</th>\n",
       "      <th>memberCount</th>\n",
       "      <th>category</th>\n",
       "      <th>keywords</th>\n",
       "      <th>subscriberCount</th>\n",
       "      <th>daysPassed</th>\n",
       "    </tr>\n",
       "  </thead>\n",
       "  <tbody>\n",
       "    <tr>\n",
       "      <th>0</th>\n",
       "      <td>DREAM SKETCH : Page #1 - Concert Meeting, Post...</td>\n",
       "      <td>2022-11-25</td>\n",
       "      <td>411160</td>\n",
       "      <td>56214</td>\n",
       "      <td>1624</td>\n",
       "      <td>1682</td>\n",
       "      <td>NaN</td>\n",
       "      <td>NaN</td>\n",
       "      <td>NaN</td>\n",
       "      <td>5.34</td>\n",
       "      <td>1</td>\n",
       "    </tr>\n",
       "    <tr>\n",
       "      <th>1</th>\n",
       "      <td>NCT DREAM THE MOVIE : In A DREAM | ScreenX Tra...</td>\n",
       "      <td>2022-11-24</td>\n",
       "      <td>112087</td>\n",
       "      <td>23301</td>\n",
       "      <td>350</td>\n",
       "      <td>31</td>\n",
       "      <td>NaN</td>\n",
       "      <td>NaN</td>\n",
       "      <td>NaN</td>\n",
       "      <td>5.34</td>\n",
       "      <td>2</td>\n",
       "    </tr>\n",
       "    <tr>\n",
       "      <th>2</th>\n",
       "      <td>????NCTzens ??????????????????? #NAGOYA#NCTDRE...</td>\n",
       "      <td>2022-11-24</td>\n",
       "      <td>91345</td>\n",
       "      <td>24341</td>\n",
       "      <td>140</td>\n",
       "      <td>37</td>\n",
       "      <td>NaN</td>\n",
       "      <td>NaN</td>\n",
       "      <td>NaN</td>\n",
       "      <td>5.34</td>\n",
       "      <td>2</td>\n",
       "    </tr>\n",
       "    <tr>\n",
       "      <th>3</th>\n",
       "      <td>???????????? ??? ?????????????? ??? ??? ?????...</td>\n",
       "      <td>2022-11-23</td>\n",
       "      <td>772833</td>\n",
       "      <td>101486</td>\n",
       "      <td>2409</td>\n",
       "      <td>1157</td>\n",
       "      <td>NaN</td>\n",
       "      <td>NaN</td>\n",
       "      <td>NaN</td>\n",
       "      <td>5.34</td>\n",
       "      <td>3</td>\n",
       "    </tr>\n",
       "    <tr>\n",
       "      <th>4</th>\n",
       "      <td>NCT DREAM THE MOVIE : In A DREAM | ScreenX Tra...</td>\n",
       "      <td>2022-11-17</td>\n",
       "      <td>168691</td>\n",
       "      <td>31192</td>\n",
       "      <td>474</td>\n",
       "      <td>31</td>\n",
       "      <td>NaN</td>\n",
       "      <td>NaN</td>\n",
       "      <td>NaN</td>\n",
       "      <td>5.32</td>\n",
       "      <td>9</td>\n",
       "    </tr>\n",
       "  </tbody>\n",
       "</table>\n",
       "</div>"
      ],
      "text/plain": [
       "                                               title publishedAt  viewCount  \\\n",
       "0  DREAM SKETCH : Page #1 - Concert Meeting, Post...  2022-11-25     411160   \n",
       "1  NCT DREAM THE MOVIE : In A DREAM | ScreenX Tra...  2022-11-24     112087   \n",
       "2  ????NCTzens ??????????????????? #NAGOYA#NCTDRE...  2022-11-24      91345   \n",
       "3  ???????????? ??? ?????????????? ??? ??? ?????...  2022-11-23     772833   \n",
       "4  NCT DREAM THE MOVIE : In A DREAM | ScreenX Tra...  2022-11-17     168691   \n",
       "\n",
       "   likeCount  commentCount  duration  memberCount category keywords  \\\n",
       "0      56214          1624      1682          NaN      NaN      NaN   \n",
       "1      23301           350        31          NaN      NaN      NaN   \n",
       "2      24341           140        37          NaN      NaN      NaN   \n",
       "3     101486          2409      1157          NaN      NaN      NaN   \n",
       "4      31192           474        31          NaN      NaN      NaN   \n",
       "\n",
       "   subscriberCount  daysPassed  \n",
       "0             5.34           1  \n",
       "1             5.34           2  \n",
       "2             5.34           2  \n",
       "3             5.34           3  \n",
       "4             5.32           9  "
      ]
     },
     "execution_count": 4,
     "metadata": {},
     "output_type": "execute_result"
    }
   ],
   "source": [
    "# date_collected = '2022-11-26'.\n",
    "df['daysPassed'] = (pd.to_datetime('2022-11-26')-df['publishedAt']).dt.days.astype('int')\n",
    "df.head()"
   ]
  },
  {
   "cell_type": "markdown",
   "id": "c8fe7325",
   "metadata": {},
   "source": [
    "**Fill in empty data for Subscribers using fitting** <br>\n",
    "Youtube API does not provide the number of subscribers by date. I have achieved 82 (or 6 months worth) of subscriber count data from third party. This data will be used for analysis and prediction of the previous empty data."
   ]
  },
  {
   "cell_type": "code",
   "execution_count": 5,
   "id": "3a5c719b",
   "metadata": {},
   "outputs": [
    {
     "data": {
      "text/plain": [
       "Text(0, 0.5, 'subscribers')"
      ]
     },
     "execution_count": 5,
     "metadata": {},
     "output_type": "execute_result"
    },
    {
     "data": {
      "image/png": "[encoded data removed]",
      "text/plain": [
       "<Figure size 432x288 with 1 Axes>"
      ]
     },
     "metadata": {
      "needs_background": "light"
     },
     "output_type": "display_data"
    }
   ],
   "source": [
    "# Visualize non NAN columns for subscriberCount\n",
    "df_sub= df[['publishedAt','subscriberCount']]\n",
    "df_sub = df_sub.dropna()\n",
    "\n",
    "plt.plot(df_sub['publishedAt'],df_sub['subscriberCount'])\n",
    "plt.title('Time vs Subscribercount')\n",
    "plt.xlabel(\"Time\")\n",
    "plt.ylabel(\"subscribers\")\n"
   ]
  },
  {
   "cell_type": "markdown",
   "id": "6f2ed963",
   "metadata": {},
   "source": [
    "From the plot, we can interpret that the number of subscribers are increasing. The increasing trend seems somewhat linear but also seems to concave downwards. <br>\n",
    "We will fit this data to a logarithmic fit "
   ]
  },
  {
   "cell_type": "code",
   "execution_count": 6,
   "id": "e24abfab",
   "metadata": {},
   "outputs": [
    {
     "data": {
      "text/plain": [
       "[<matplotlib.lines.Line2D at 0x29c1d30dac0>]"
      ]
     },
     "execution_count": 6,
     "metadata": {},
     "output_type": "execute_result"
    },
    {
     "data": {
      "image/png": "[encoded data removed]",
      "text/plain": [
       "<Figure size 432x288 with 1 Axes>"
      ]
     },
     "metadata": {
      "needs_background": "light"
     },
     "output_type": "display_data"
    }
   ],
   "source": [
    "df_sub['toOrdinal']=df_sub['publishedAt'].apply(lambda x: x.toordinal())\n",
    "x = np.array(df_sub['toOrdinal'])\n",
    "y = np.array(df_sub['subscriberCount'])\n",
    "\n",
    "#fit the log value of x(date created). Find an arbitrary number to deduct from x to fit the plot\n",
    "x = x-738260\n",
    "x_log = np.log(x)\n",
    "a,b = np.polyfit(x_log,y,1)\n",
    "plt.plot(x,a*x_log+b,'o')\n",
    "plt.plot(x,y,'r')"
   ]
  },
  {
   "cell_type": "markdown",
   "id": "202f733e",
   "metadata": {},
   "source": [
    "This logarithmic regression does very well with the limited data we have. <br>\n",
    "However, the ordinal date the channel has been created is smaller than the number we deduct from x. Thus, this result in logarithm of a negative number, which is not a real number.<br>\n",
    "So, in this case, we will add data which has the ordinal date equal to when the channel has been made and set the subscriber to 0.<br>\n",
    "The subscriber data that I have achieved from third party data is in millions. Therefore, even if there were minimal subscribers on the very day the channel was made, it is small enough to ignore.<br>\n",
    "Now, with the added data, we will see if we can fit an ordinary least squares "
   ]
  },
  {
   "cell_type": "code",
   "execution_count": 7,
   "id": "bdbc6840",
   "metadata": {},
   "outputs": [
    {
     "ename": "SyntaxError",
     "evalue": "invalid syntax (Temp/ipykernel_3388/3007767326.py, line 17)",
     "output_type": "error",
     "traceback": [
      "\u001b[1;36m  File \u001b[1;32m\"C:\\Users\\clara\\AppData\\Local\\Temp/ipykernel_3388/3007767326.py\"\u001b[1;36m, line \u001b[1;32m17\u001b[0m\n\u001b[1;33m    ypred = ols_fit.predict(x_const)`\u001b[0m\n\u001b[1;37m                                    ^\u001b[0m\n\u001b[1;31mSyntaxError\u001b[0m\u001b[1;31m:\u001b[0m invalid syntax\n"
     ]
    }
   ],
   "source": [
    "import statsmodels.api as sm\n",
    "\n",
    "#Add the date of the creation of account and subscriber to 0 at the time\n",
    "x = np.array(df_sub['toOrdinal'])\n",
    "y = np.array(df_sub['subscriberCount'])\n",
    "y = np.append(y,0)\n",
    "date_created = datetime.datetime.strptime('7/6/17',\"%d/%m/%y\").toordinal()\n",
    "x = np.append(x,date_created)\n",
    "\n",
    "# Run an ordinary least squares for linear regression\n",
    "x_const= sm.add_constant(x) #for constant parameter\n",
    "\n",
    "ols_fit = sm.OLS(y,x_const).fit()\n",
    "print(ols_fit.params)\n",
    "print(ols_fit.summary())\n",
    "\n",
    "ypred = ols_fit.predict(x_const)`\n",
    "plt.plot(x[:82],y[:82],'o')\n",
    "plt.plot(x[:82],ypred[:82])"
   ]
  },
  {
   "cell_type": "markdown",
   "id": "0bcfa938",
   "metadata": {},
   "source": [
    "From the OLS summary, both R-squared and adjusted R-squared are large(0.990,0.989>0.975) andd the p value is very small (<0.05). We can say that the model does not have enough evidence to be insignificant. Therefore, we will use this model for the NaN data for subscriber count."
   ]
  },
  {
   "cell_type": "code",
   "execution_count": 8,
   "id": "e1f912bd",
   "metadata": {},
   "outputs": [
    {
     "data": {
      "text/plain": [
       "10"
      ]
     },
     "execution_count": 8,
     "metadata": {},
     "output_type": "execute_result"
    },
    {
     "data": {
      "image/png": "[encoded data removed]",
      "text/plain": [
       "<Figure size 432x288 with 1 Axes>"
      ]
     },
     "metadata": {
      "needs_background": "light"
     },
     "output_type": "display_data"
    }
   ],
   "source": [
    "def subscriberPred(x): #from ols params above\n",
    "    return -2000.58514 + 0.00271629042 *x\n",
    "\n",
    "df_sub2=df[['publishedAt']].copy()\n",
    "df_sub2['toOrdinal'] = df_sub2['publishedAt'].apply(lambda x: x.toordinal())\n",
    "df_sub2 = df_sub2.drop(['publishedAt'],axis=1)\n",
    "df_sub2['subscriberCountPred'] = df_sub2['toOrdinal'].apply(subscriberPred)\n",
    "\n",
    "df['subscriberCountPred'] = df_sub2['subscriberCountPred']\n",
    "df['subscriberCountPred'][:82] = df['subscriberCount'][:82]\n",
    "\n",
    "plt.plot(df['publishedAt'],df['subscriberCountPred'],color=\"red\")\n",
    "plt.title(\"Approximate Subscriber Count\")\n",
    "plt.xlabel(\"published Time\")\n",
    "plt.ylabel(\"Subscribers(M)\")\n",
    "\n",
    "# Delete sub dataframes\n",
    "del df_sub\n",
    "del df_sub2\n",
    "\n",
    "gc.collect()\n"
   ]
  },
  {
   "cell_type": "markdown",
   "id": "707de62e",
   "metadata": {},
   "source": [
    "**Label Category** <br>\n",
    "From the 'keywords' column, create columns with significant keywords.<br>\n",
    "Label each video as 1 if 'keywords' include the keyword and 0 if not.\n",
    "(Keywords are manually added)"
   ]
  },
  {
   "cell_type": "code",
   "execution_count": null,
   "id": "d00212ca",
   "metadata": {},
   "outputs": [],
   "source": []
  }
 ],
 "metadata": {
  "kernelspec": {
   "display_name": "Python 3",
   "language": "python",
   "name": "python3"
  },
  "language_info": {
   "codemirror_mode": {
    "name": "ipython",
    "version": 3
   },
   "file_extension": ".py",
   "mimetype": "text/x-python",
   "name": "python",
   "nbconvert_exporter": "python",
   "pygments_lexer": "ipython3",
   "version": "3.8.8"
  },
  "vscode": {
   "interpreter": {
    "hash": "0f83aefe8264fb1a009e1d3c753096a20a50abff969f7f6f1a152bbb5c31731d"
   }
  }
 },
 "nbformat": 4,
 "nbformat_minor": 5
}
