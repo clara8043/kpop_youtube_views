{
 "cells": [
  {
   "cell_type": "markdown",
   "id": "704242aa",
   "metadata": {},
   "source": [
    "**Import Libraries**"
   ]
  },
  {
   "cell_type": "code",
   "execution_count": 1,
   "id": "998ce85c",
   "metadata": {},
   "outputs": [],
   "source": [
    "import numpy as np\n",
    "import pandas as pd\n",
    "import matplotlib.pyplot as plt\n",
    "from matplotlib import dates\n",
    "import seaborn as sns\n",
    "%matplotlib inline\n",
    "\n",
    "import sys\n",
    "import gc\n",
    "import datetime as dt\n",
    "import warnings\n",
    "warnings.filterwarnings(\"ignore\")"
   ]
  },
  {
   "cell_type": "markdown",
   "id": "27b87e2b",
   "metadata": {},
   "source": [
    "**Import Data**"
   ]
  },
  {
   "cell_type": "code",
   "execution_count": 2,
   "id": "1ac3f1ab",
   "metadata": {},
   "outputs": [
    {
     "data": {
      "text/plain": [
       "title                       object\n",
       "publishedAt                 object\n",
       "viewCount                    int64\n",
       "likeCount                    int64\n",
       "commentCount                 int64\n",
       "duration                     int64\n",
       "memberCount                float64\n",
       "category                    object\n",
       "keywords                    object\n",
       "subscriberCountMillions    float64\n",
       "dtype: object"
      ]
     },
     "execution_count": 2,
     "metadata": {},
     "output_type": "execute_result"
    }
   ],
   "source": [
    "df = pd.read_csv('nct_dream_data.csv',encoding = 'utf-8-sig',parse_dates=['publishedAt'])\n",
    "\n",
    "# Retrieve only year-month-day\n",
    "df[\"publishedAt\"]=pd.to_datetime(df[\"publishedAt\"]).dt.date\n",
    "#Rename column to show unit\n",
    "df.rename({'subscriberCount': 'subscriberCountMillions'}, axis=1, inplace=True)\n",
    "\n",
    "df.head()\n",
    "df.dtypes"
   ]
  },
  {
   "cell_type": "markdown",
   "id": "8f2f7a13",
   "metadata": {},
   "source": [
    "# Data Wrangling"
   ]
  },
  {
   "cell_type": "markdown",
   "id": "d430bdbf",
   "metadata": {},
   "source": [
    "**Delete videos that are \"Shorts\"**"
   ]
  },
  {
   "cell_type": "code",
   "execution_count": 3,
   "id": "7efc7395",
   "metadata": {},
   "outputs": [
    {
     "name": "stdout",
     "output_type": "stream",
     "text": [
      "df has 348 rows after removing shorts\n"
     ]
    }
   ],
   "source": [
    "df=df[df['category']!=\"Shorts\"]\n",
    "print(f'df has {len(df)} rows after removing shorts')\n",
    "df.reset_index(drop=True, inplace=True)\n"
   ]
  },
  {
   "cell_type": "markdown",
   "id": "929f671c",
   "metadata": {},
   "source": [
    "**Add the duration of days past since the data is collected**"
   ]
  },
  {
   "cell_type": "code",
   "execution_count": 4,
   "id": "eada89a8",
   "metadata": {},
   "outputs": [],
   "source": [
    "# date_collected = '2022-11-26'.\n",
    "# print(pd.Timestamp.today().date())\n",
    "df['daysPassed'] = (pd.to_datetime('2022-11-26')-pd.to_datetime(df['publishedAt'])).dt.days.astype('int')\n"
   ]
  },
  {
   "cell_type": "markdown",
   "id": "c8fe7325",
   "metadata": {},
   "source": [
    "**Fill in empty data for Subscribers using fitting** <br>\n",
    "Youtube API does not provide the number of subscribers by date. I have achieved 82 (or 6 months worth) of subscriber count data from third party. This data will be used for analysis and prediction of the previous empty data."
   ]
  },
  {
   "cell_type": "code",
   "execution_count": 5,
   "id": "3a5c719b",
   "metadata": {},
   "outputs": [
    {
     "data": {
      "text/plain": [
       "Text(0, 0.5, 'Subscribers(M)')"
      ]
     },
     "execution_count": 5,
     "metadata": {},
     "output_type": "execute_result"
    },
    {
     "data": {
      "image/png": "[encoded data removed]",
      "text/plain": [
       "<Figure size 432x288 with 1 Axes>"
      ]
     },
     "metadata": {
      "needs_background": "light"
     },
     "output_type": "display_data"
    }
   ],
   "source": [
    "# Visualize non NAN columns for subscriberCount\n",
    "df_sub= df[['publishedAt','subscriberCountMillions']]\n",
    "df_sub = df_sub.dropna()\n",
    "df_sub.reset_index(drop=True, inplace=True)\n",
    "\n",
    "plt.scatter(df_sub['publishedAt'],df_sub['subscriberCountMillions'])\n",
    "plt.title('Time vs Subscribers(M)')\n",
    "plt.xlabel(\"Time\")\n",
    "plt.ylabel(\"Subscribers(M)\")\n",
    "\n"
   ]
  },
  {
   "cell_type": "markdown",
   "id": "6f2ed963",
   "metadata": {},
   "source": [
    "From the plot, we can interpret that the number of subscribers are increasing. The increasing trend seems somewhat linear but also seems to concave downwards. <br>\n",
    "We will fit this data to a logarithmic fit "
   ]
  },
  {
   "cell_type": "code",
   "execution_count": 6,
   "id": "e24abfab",
   "metadata": {},
   "outputs": [
    {
     "data": {
      "text/plain": [
       "Text(0.5, 0, 'Time (Ordinal)')"
      ]
     },
     "execution_count": 6,
     "metadata": {},
     "output_type": "execute_result"
    },
    {
     "data": {
      "image/png": "[encoded data removed]",
      "text/plain": [
       "<Figure size 432x288 with 1 Axes>"
      ]
     },
     "metadata": {
      "needs_background": "light"
     },
     "output_type": "display_data"
    }
   ],
   "source": [
    "df_sub['toOrdinal']=df_sub['publishedAt'].apply(lambda x: x.toordinal())\n",
    "x = np.array(df_sub['toOrdinal'])\n",
    "y = np.array(df_sub['subscriberCountMillions'])\n",
    "\n",
    "#fit the log value of x(date created). Find an arbitrary number to deduct from x to fit the plot\n",
    "x = x-738260\n",
    "x_log = np.log(x)\n",
    "a,b = np.polyfit(x_log,y,1)\n",
    "plt.plot(x,a*x_log+b,)\n",
    "plt.plot(x,y,'o')\n",
    "plt.ylabel(\"Subscribers (Million)\")\n",
    "plt.xlabel(\"Time (Ordinal)\")"
   ]
  },
  {
   "cell_type": "markdown",
   "id": "202f733e",
   "metadata": {},
   "source": [
    "This logarithmic regression does very well with the limited data we have. <br>\n",
    "However, the ordinal date the channel has been created is smaller than the number we deduct from x. Thus, this result in logarithm of a negative number, which is not a real number.<br>\n",
    "Therefore, the logarithmic fit is not the right choice for subscriber prediction."
   ]
  },
  {
   "cell_type": "code",
   "execution_count": 11,
   "id": "bdbc6840",
   "metadata": {},
   "outputs": [
    {
     "data": {
      "text/plain": [
       "[<matplotlib.lines.Line2D at 0x2520aa76cf8>]"
      ]
     },
     "execution_count": 11,
     "metadata": {},
     "output_type": "execute_result"
    },
    {
     "data": {
      "image/png": "[encoded data removed]",
      "text/plain": [
       "<Figure size 432x432 with 1 Axes>"
      ]
     },
     "metadata": {
      "needs_background": "light"
     },
     "output_type": "display_data"
    }
   ],
   "source": [
    "# Plotting\n",
    "# Set publishedAtNumeric for regplot\n",
    "df_sub['publishedAtNumeric'] = dates.date2num(df_sub['publishedAt'])\n",
    "# Plot regression plot\n",
    "sns.lmplot(x=\"publishedAtNumeric\", y=\"subscriberCountMillions\", data=df_sub,height=6)\n",
    "plt.title('Time vs Subscribers(M)')\n",
    "plt.xlabel(\"Time\")\n",
    "plt.ylabel(\"Subscribers(M)\")\n",
    "plt.xlim(df_sub['publishedAtNumeric'].min(),df_sub['publishedAtNumeric'].max())\n",
    "plt.ylim(df_sub['subscriberCountMillions'].min(),df_sub['subscriberCountMillions'].max())\n",
    "plt.gca().xaxis.set_major_locator(dates.AutoDateLocator())\n",
    "plt.gca().xaxis.set_major_formatter(dates.DateFormatter('%Y.%m.%d'))\n",
    "plt.plot(x[:82],y[:82],'o')\n",
    "plt.plot(x[:82],ypred[:82])\n",
    "\n"
   ]
  },
  {
   "cell_type": "markdown",
   "id": "a49a8186",
   "metadata": {},
   "source": [
    "The graph above shows some linear trend in the data points.<br>\n",
    "Therefore, we will create a linear model using ordinary least squares."
   ]
  },
  {
   "cell_type": "code",
   "execution_count": 12,
   "id": "ecc481e9",
   "metadata": {},
   "outputs": [
    {
     "name": "stdout",
     "output_type": "stream",
     "text": [
      "                            OLS Regression Results                            \n",
      "==============================================================================\n",
      "Dep. Variable:                      y   R-squared:                       0.932\n",
      "Model:                            OLS   Adj. R-squared:                  0.930\n",
      "Method:                 Least Squares   F-statistic:                     656.3\n",
      "Date:                Thu, 08 Dec 2022   Prob (F-statistic):           1.19e-29\n",
      "Time:                        23:22:30   Log-Likelihood:                 82.282\n",
      "No. Observations:                  50   AIC:                            -160.6\n",
      "Df Residuals:                      48   BIC:                            -156.7\n",
      "Df Model:                           1                                         \n",
      "Covariance Type:            nonrobust                                         \n",
      "==============================================================================\n",
      "                 coef    std err          t      P>|t|      [0.025      0.975]\n",
      "------------------------------------------------------------------------------\n",
      "const      -2044.0502     79.983    -25.556      0.000   -2204.867   -1883.233\n",
      "x1             0.0028      0.000     25.619      0.000       0.003       0.003\n",
      "==============================================================================\n",
      "Omnibus:                        4.245   Durbin-Watson:                   0.058\n",
      "Prob(Omnibus):                  0.120   Jarque-Bera (JB):                3.393\n",
      "Skew:                           0.518   Prob(JB):                        0.183\n",
      "Kurtosis:                       2.256   Cond. No.                     8.77e+09\n",
      "==============================================================================\n",
      "\n",
      "Warnings:\n",
      "[1] Standard Errors assume that the covariance matrix of the errors is correctly specified.\n",
      "[2] The condition number is large, 8.77e+09. This might indicate that there are\n",
      "strong multicollinearity or other numerical problems.\n"
     ]
    }
   ],
   "source": [
    "import statsmodels.api as sm\n",
    "\n",
    "#Add the date of the creation of account and subscriber to 0 at the time\n",
    "x = np.array(df_sub['toOrdinal'])\n",
    "y = np.array(df_sub['subscriberCountMillions'])\n",
    "x_const= sm.add_constant(x) #for constant parameter\n",
    "\n",
    "# Fit linear regression using ols\n",
    "ols_fit = sm.OLS(y,x_const).fit()\n",
    "\n",
    "# Prediction value\n",
    "ypred = ols_fit.predict(x_const)\n",
    "\n",
    "\n",
    "# Summary for regression\n",
    "print(ols_fit.summary())\n"
   ]
  },
  {
   "cell_type": "markdown",
   "id": "0bcfa938",
   "metadata": {},
   "source": [
    "From the OLS summary, both R-squared and adjusted R-squared are large(0.932,0.930>0.9) andd the p value is very small (<0.05). We can say that the model does not have enough evidence to be insignificant. Therefore, we will use this model for the NaN data for subscriber count."
   ]
  },
  {
   "cell_type": "code",
   "execution_count": 14,
   "id": "e1f912bd",
   "metadata": {},
   "outputs": [
    {
     "name": "stdout",
     "output_type": "stream",
     "text": [
      "47    4.800000\n",
      "48    4.800000\n",
      "49    4.800000\n",
      "50    4.844049\n",
      "51    4.844049\n",
      "52    4.827398\n",
      "53    4.824622\n",
      "54    4.819072\n",
      "55    4.819072\n",
      "56    4.807971\n",
      "57    4.802421\n"
     ]
    },
    {
     "data": {
      "text/plain": [
       "2038"
      ]
     },
     "execution_count": 14,
     "metadata": {},
     "output_type": "execute_result"
    },
    {
     "data": {
      "image/png": "[encoded data removed]",
      "text/plain": [
       "<Figure size 432x288 with 1 Axes>"
      ]
     },
     "metadata": {
      "needs_background": "light"
     },
     "output_type": "display_data"
    }
   ],
   "source": [
    "# Predict subscribers for empty data\n",
    "def subscriberPred(x): #from ols params above\n",
    "    return ols_fit.params[0] + ols_fit.params[1] *x\n",
    "\n",
    "df_sub2=df[['publishedAt']].copy()\n",
    "df_sub2['toOrdinal'] = df_sub2['publishedAt'].apply(lambda x: x.toordinal())\n",
    "df_sub2 = df_sub2.drop(['publishedAt'],axis=1)\n",
    "df_sub2['subscriberCountPredMillions'] = df_sub2['toOrdinal'].apply(subscriberPred)\n",
    "\n",
    "df['subscriberCountPredMillions'] = df_sub2['subscriberCountPredMillions']\n",
    "df['subscriberCountPredMillions'][:50] = df['subscriberCountMillions'][:50]\n",
    "#Plot linear regression\n",
    "plt.plot(df['publishedAt'],df['subscriberCountPredMillions'],color=\"red\")\n",
    "plt.title(\"Approximate Subscriber Count\")\n",
    "plt.xlabel(\"published Time\")\n",
    "plt.ylabel(\"Subscribers(M)\")\n",
    "print(df['subscriberCountPredMillions'][47:58].to_string())\n",
    "\n",
    "# Delete sub dataframes\n",
    "del df_sub\n",
    "del df_sub2\n",
    "\n",
    "gc.collect()"
   ]
  },
  {
   "cell_type": "markdown",
   "id": "83c2d0b2",
   "metadata": {},
   "source": [
    "There is a slight discrepency in the prediction of subscribers(M) over time. Data from index 0 to 49 are real collected data where as the data after that are the predicted values. Data indexed at 49 is smaller than data indexed at 50 even though index 49 should have a larger number of subscribers. "
   ]
  },
  {
   "cell_type": "markdown",
   "id": "707de62e",
   "metadata": {},
   "source": [
    "**Label Category** <br>\n",
    "From the 'keywords' column, create columns with significant keywords.<br>\n",
    "Label each video as 1 if 'keywords' include the keyword and 0 if not.\n",
    "(Keywords are manually added)"
   ]
  },
  {
   "cell_type": "code",
   "execution_count": null,
   "id": "d00212ca",
   "metadata": {},
   "outputs": [],
   "source": [
    "#Categories\n",
    "keywords = ['jakun','bts','comeback','performance','stage','teaser','reaction',\n",
    "    'music video', 'advertisement', 'track', 'promotion', 'recording','dance',\n",
    "    'audio', 'liveperformance', 'album'] \n",
    "#unboxing = jakun + album\n",
    "#dvsd = jakun + comeback"
   ]
  },
  {
   "cell_type": "code",
   "execution_count": null,
   "id": "54c5913a",
   "metadata": {},
   "outputs": [],
   "source": [
    "# Change to all lower case for category and keywords\n",
    "df['keywords']=df['keywords'].str.lower()\n",
    "df['category']=df['category'].str.lower()\n",
    "\n",
    "# Create one hot encoding for the categories\n",
    "for i in keywords :\n",
    "    df[i] = df.apply(lambda row: 1 if (i in row['keywords']) or (i in row['category']) else 0,axis=1)"
   ]
  },
  {
   "cell_type": "markdown",
   "id": "45f83296",
   "metadata": {},
   "source": [
    "Explanation of Keywords(Categories):\n",
    "* Jakun = In-house created themed show (Travel, Cooking, Game, etc..)\n",
    "* BTS = Behind the Scenes of recording album, album photoshoot, stages etc..\n",
    "* comeback = Videos related to the release of new album\n",
    "* performance = Videos where the K-pop band sings and/or dances\n",
    "* stage = Videos where the K-pop band performed officially on stage\n",
    "* teaser = teaser for music videos, movies, concerts, etc\n",
    "* reaction = Video where the band films themselves watching and reacting to other videos\n",
    "* music video = Music videos of songs which are not the main track (main track music videos are uploaded on another channel)\n",
    "* advertisement = Videos related to the advertisements the band is doing (cosmetics, food, bank)\n",
    "* track = Track videos. They are similar to music videos but usually a video for half of the track before the album releases\n",
    "* promotion = Videos where the band promotes their merchandise, concert etc\n",
    "* recording = Videos of the K-pop band recording their music tracks\n",
    "* dance = Videos of the band dancing (stage, practice etc)\n",
    "* audio = audio of the tracks of album or medley of the highlights of the full album\n",
    "* liveperformance = Videos where the band performs live (doesn't necessarily have to be on a stage. Could be casual.)\n",
    "* album = Anything related to their album (unboxing of album, photoshoot of album..)\n",
    "Other keywords that are not included\n",
    "* dvsd : comeback + jakun\n",
    "* unboxing = jakun + album\n",
    "* facecam, dvsd,replay,concert, game, recap, highlight medley,unboxing"
   ]
  },
  {
   "cell_type": "markdown",
   "id": "22e833bb",
   "metadata": {},
   "source": [
    "# Data Analysis"
   ]
  },
  {
   "cell_type": "code",
   "execution_count": null,
   "id": "ed463010",
   "metadata": {},
   "outputs": [],
   "source": [
    "for i in keywords :\n",
    "    print(f\"Number of videos in category {i:15} : {len(df[df[i]==1]):5}\")"
   ]
  },
  {
   "cell_type": "markdown",
   "id": "80c166a9",
   "metadata": {},
   "source": [
    "The categories worth looking at individually are : Jakun, BTS, comeback, performance, stage, dance"
   ]
  },
  {
   "cell_type": "markdown",
   "id": "cb8653af",
   "metadata": {},
   "source": [
    "**Relationship between keywords and total number of views**"
   ]
  },
  {
   "cell_type": "code",
   "execution_count": null,
   "id": "6c829c10",
   "metadata": {},
   "outputs": [],
   "source": [
    "fig, axes = plt.subplots(4,4,figsize=(22, 22))\n",
    "for i in range(len(keywords)):\n",
    "    axes[int(i/4),int(i%4)].scatter(df['viewCount'],df[keywords[i]],s=0.5)\n",
    "    axes[int(i/4),int(i%4)].set_title('View vs ' +keywords[i])\n",
    "    axes[int(i/4),int(i%4)].set_xlabel('number of Views')\n",
    "    axes[int(i/4),int(i%4)].set_ylabel('have keyword/category' + keywords[i])\n"
   ]
  },
  {
   "cell_type": "markdown",
   "id": "91d205cb",
   "metadata": {},
   "source": [
    "The above is a graph of 'viewCount' vs each keyword(category)<br>\n",
    "The Y value is 1 for videos that contain the keywords and 0 for those that do not.\n",
    "* We can see that there are only three videos over the view of 1.5+e7. These videos could be considered as an outlier in our model. However, from a business aspect, it could be analysed and interpreted as very valuable information to deterimine which videos get viral within the K-pop fandom (or even the general public) and why.\n",
    "* Most of the graphs are consistent in terms of views, but some categories have videos where most of them have very small views where as a few have very large amount of views. This might be because there was something special about those videos or was included in other categories that have a higher tendency to gain more views.\n",
    "* In general, we can see that the more popular videos are under categories 'Stage', 'Performance','Comeback', 'Jakun', 'Dance', 'Music Video'. The less popular videos are under the categories 'Audio', 'Teaser', 'Behind the Scenes', 'Advertisement', 'Album', 'Rection', 'Promotion'. The more vague categories are 'Track', 'Live Performance', 'Recording'."
   ]
  },
  {
   "cell_type": "markdown",
   "id": "ac7a30e9",
   "metadata": {},
   "source": [
    "**Relationship between duration and views for different categories**"
   ]
  },
  {
   "cell_type": "code",
   "execution_count": null,
   "id": "a924c1e6",
   "metadata": {},
   "outputs": [],
   "source": [
    "fig, axes = plt.subplots(4,4,figsize=(22, 22))\n",
    "for i in range(len(keywords)):\n",
    "    df_sub = df[df[keywords[i]]==1]\n",
    "    axes[int(i/4),int(i%4)].scatter(df_sub['duration'],df_sub['viewCount'])\n",
    "    axes[int(i/4),int(i%4)].set_title('Duration vs View :' +keywords[i])\n",
    "    axes[int(i/4),int(i%4)].set_xlabel('Length of Duration')\n",
    "    axes[int(i/4),int(i%4)].set_ylabel('Views')"
   ]
  },
  {
   "cell_type": "markdown",
   "id": "1df3dd0c",
   "metadata": {},
   "source": [
    "The above graph shows some correlation between duration and views for videos with categories 'Jakun', 'BTS, and a little bit for 'Promotion'"
   ]
  },
  {
   "cell_type": "code",
   "execution_count": null,
   "id": "cbbb4514",
   "metadata": {},
   "outputs": [],
   "source": [
    "j_corr = df[df['jakun']==1][['duration','viewCount']].corr()\n",
    "bts_corr = df[df['bts']==1][['duration','viewCount']].corr()\n",
    "pro_corr = df[df['promotion']==1][['duration','viewCount']].corr()\n",
    "print('Jakun correlation')\n",
    "print(j_corr)\n",
    "print(\"\\nBehind the Scenes correlation\")\n",
    "print(bts_corr)\n",
    "print(\"\\nPromotion correlation\")\n",
    "print(pro_corr)"
   ]
  },
  {
   "cell_type": "markdown",
   "id": "949c2e7e",
   "metadata": {},
   "source": [
    "* Within the category 'Jakun', views have a quite high correlation between the duration of videos - 0.71\n",
    "* Within the category 'Behind the Scenes', views have moderate to low correlation with duration - 0.49\n",
    "* Within the category 'Promotion', views have a weak correlation with duration - 0.22\n",
    "<br>\n",
    "The analysis we can make here is that the category 'Jakun' is enjoyable for more fans if they are longer. This could be because of different reasons, but generally longer 'Jakun's have a stronger theme such as the group travelling to the countryside or playing games. These videos are targeted to be watched and enjoyed similar to tv shows. Shorter 'Jakun's usually have a tendency to be promoting merchandise. The differences of the characteristics of longer and shorter 'Jakun's could be the reason for this correlation."
   ]
  },
  {
   "cell_type": "markdown",
   "id": "ec326084",
   "metadata": {},
   "source": [
    "**Correlation between all features**"
   ]
  },
  {
   "cell_type": "code",
   "execution_count": null,
   "id": "9d5278f4",
   "metadata": {},
   "outputs": [],
   "source": [
    "df.corr()"
   ]
  },
  {
   "cell_type": "markdown",
   "id": "ca74c1e1",
   "metadata": {},
   "source": [
    "The notable correlations here are between (viewCount, likeCount), (commentCount, viewCount). For viewCount and likeCount, it is likely for fans to press the like button if they watch a video. Therefore, as the views go up, the likes go up as well. For commentCount and viewCount, the correlation is moderate. But if we take into account that some videos are classified as children's videos and comments are not allowed, we can predict that the correlation will increase if the comments are allowed.<br>\n",
    "One thing to note for likeCount and commentCount is that we cannot predict views with these prior to upload. When these data are provided, viewCount is also provided. Therefore, it is not reasonable to use these as features in the prediction model."
   ]
  },
  {
   "cell_type": "markdown",
   "id": "2dbee99a",
   "metadata": {},
   "source": [
    "The correlation between subscriberCountPred and subscriberCount is 1 since we derived subscriberCountPred from subscriberCount. However, one thing to notice is that daysPassed has a negative correlation by -0.999905 with subscriberCountPred. This is because we the date for both features. <br>\n",
    "The issue that arises from this is if the views of a video is more reliant on the number of subscribers the channel had when it was released or if it's more reliant on how long it has been watched from the day the data was collected. Which is the more important feature when it comes to views?"
   ]
  },
  {
   "cell_type": "markdown",
   "id": "38edf717",
   "metadata": {},
   "source": [
    "**More analysis for separate categories**"
   ]
  },
  {
   "cell_type": "code",
   "execution_count": null,
   "id": "e8ac3080",
   "metadata": {},
   "outputs": [],
   "source": [
    "df_j = df[df['jakun']==1]\n",
    "corr = df_j.corr()\n",
    "import seaborn as sns\n",
    "mask = np.triu(np.ones_like(corr, dtype=bool))\n",
    "cmap = sns.diverging_palette(230, 20, as_cmap=True)\n",
    "sns.heatmap(corr, mask=mask, cmap=cmap, vmax=.3, center=0,\n",
    "            square=True, linewidths=.5, cbar_kws={\"shrink\": .5})"
   ]
  },
  {
   "cell_type": "code",
   "execution_count": null,
   "id": "257ed1a6",
   "metadata": {},
   "outputs": [],
   "source": [
    "df_j=df_j.drop(['title'],axis=1)\n",
    "df_j\n",
    "plt.plot(df_j['viewCount'],df_j[\"memberCount\"],'o')\n",
    "plt.xlabel(\"Views\")\n",
    "plt.ylabel(\"Number of members of the group\")"
   ]
  },
  {
   "cell_type": "code",
   "execution_count": null,
   "id": "8c1c522c",
   "metadata": {},
   "outputs": [],
   "source": [
    "# Statistical test on views and number of members in the category jakun\n",
    "x = df_j['viewCount']\n",
    "y = df_j['memberCount']\n",
    "ols_fit = sm.OLS(y,x).fit()\n",
    "print(ols_fit.params)\n",
    "print(ols_fit.summary())\n",
    "print(f\"Correlation between viewCount and memberCount in Jakun is {x.corr(y)}\")"
   ]
  },
  {
   "cell_type": "markdown",
   "id": "90117553",
   "metadata": {},
   "source": [
    "From this graph, we can see that there is a limit on how high the views can be when a 'Jakun' video. Videos with views over 3 million are all videos with all the members(7) in it. The adjusted R squared is around 0.6, which shows some moderate effect. The correlation between the two are 0.48, which shows that there is some correlation between the two even though it is not strong."
   ]
  },
  {
   "cell_type": "markdown",
   "id": "4d2cb15c",
   "metadata": {},
   "source": [
    "# Data Modeling"
   ]
  },
  {
   "cell_type": "markdown",
   "id": "3c81d149",
   "metadata": {},
   "source": [
    "The obstacle of creating this model is decide the prediction of views how long after they have been up. The views of a video that has been up for a day will be extremely different from the views after a month whereas the views after two months will not be very different from views after years. By comparing the data collected a month ago, the conclusion was that views don't change much after two months. So, the views prediction will be considered as views of a video two months after uploading.\n",
    "<br>\n",
    "The issue that might arise is that there are videos collected within two months of upload. Creating a model with these data and without these data will give a more clear idea to how important the duration of the video is and after what point duration becomes insignificant."
   ]
  },
  {
   "cell_type": "code",
   "execution_count": null,
   "id": "f05460c6",
   "metadata": {},
   "outputs": [],
   "source": [
    "plt.plot(df['publishedAt'],df['viewCount'],'o')\n",
    "df.nlargest(10,'viewCount')"
   ]
  },
  {
   "cell_type": "markdown",
   "id": "f7b109cd",
   "metadata": {},
   "source": [
    "For a better generalization, considered the three videos with the highest viewCount as outliers. The video with the highest viewCount was a video that went viral to the public, which rarely happens to K-pop boyband videos. The second and third most viewed videos are a collaboration with a popular children's animation. Therefore, it attracts more views from children, which rarely happens with K-pop boy bands."
   ]
  },
  {
   "cell_type": "code",
   "execution_count": null,
   "id": "9438c203",
   "metadata": {},
   "outputs": [],
   "source": [
    "df_clean = df.drop([df.index[118],df.index[153], df.index[152]],axis=0)\n",
    "plt.plot(df_clean['publishedAt'],df_clean['viewCount'],'o')"
   ]
  },
  {
   "cell_type": "markdown",
   "id": "e9b374ef",
   "metadata": {},
   "source": [
    "**Decision Trees on Cleaned Data**"
   ]
  },
  {
   "cell_type": "code",
   "execution_count": null,
   "id": "646da5ab",
   "metadata": {},
   "outputs": [],
   "source": [
    "from sklearn.model_selection import train_test_split\n",
    "# Did not include 'duration' - after 1-2 months not significant(when compared with data collected 1-2months ago)\n",
    "X = np.array(df_clean[['memberCount','daysPassed','subscriberCountPred','jakun','bts','comeback',\n",
    "              'performance','stage','teaser','reaction','music video', 'advertisement', 'track',\n",
    "              'promotion', 'recording','dance','audio', 'liveperformance', 'album']])\n",
    "y = np.array(df_clean['viewCount'])\n",
    "\n",
    "X_train,X_test, y_train, y_test = train_test_split(X,y,test_size=0.25,random_state=5)\n",
    "\n",
    "#number of train & test\n",
    "print(f\"Shape of X_train : {X_train.shape} \\nShape of X_test : {X_test.shape}\")"
   ]
  },
  {
   "cell_type": "code",
   "execution_count": null,
   "id": "50c2198d",
   "metadata": {},
   "outputs": [],
   "source": [
    "from sklearn.ensemble import RandomForestRegressor\n",
    "\n",
    "rf = RandomForestRegressor(n_estimators=500, random_state = 42)\n",
    "rf.fit(X_train,y_train)\n",
    "\n",
    "from sklearn.metrics import r2_score, mean_squared_error\n",
    "pred = rf.predict(X_test)\n",
    "\n",
    "view_mean = df_clean['viewCount'].mean()\n",
    "print(view_mean)\n",
    "count = 0\n",
    "for i in range(len(pred)):\n",
    "    print(f\"Prediction : {'%.2f' % pred[i]:10}, Real Value : {y_test[i]:8} Mean :{'%.2f' %view_mean}\")##\"{'%.2f' % (view_mean/y_test[i]*100):7}%\")\n",
    "    if abs(view_mean-y_test[i]) > abs(pred[i]-y_test[i]):\n",
    "        count = count+1\n",
    "\n",
    "print(f\"{count} out of {len(pred)} has a better outcome than the mean\")"
   ]
  },
  {
   "cell_type": "code",
   "execution_count": null,
   "id": "0b4cbddf",
   "metadata": {},
   "outputs": [],
   "source": [
    "# from sklearn.model_selection import RandomizedSearchCV\n",
    "\n",
    "# rf = RandomForestRegressor(random_state=5)\n",
    "# param_grid = {'bootstrap':[True,False],\n",
    "#               'max_depth' : [10,20,30,40,50,60,70,80],\n",
    "#               'max_features' : ['auto','sqrt'],\n",
    "#               'min_samples_leaf' :[1,2,4,8],\n",
    "#               'min_samples_split' : [2,5,10],\n",
    "#               'n_estimators' : [10,100,200,400,800,1000,1200,1500,1800,2000]}\n",
    "\n",
    "# rf_rand = RandomizedSearchCV(estimator=rf,param_distributions=param_grid,n_iter=100,cv=3,verbose=2,\n",
    "#                             random_state=5,n_jobs = -1)\n",
    "# rf_rand.fit(X_train, y_train)\n",
    "# rf_rand.best_params_\n",
    "# rand_best_model = rf_rand.best_estimator_\n",
    "# rand_best_model.fit(X_train,y_train)\n",
    "# print(mean_squared_error(y_test,rand_best_model.predict(X_test)))"
   ]
  },
  {
   "cell_type": "markdown",
   "id": "99c72c56",
   "metadata": {},
   "source": [
    "Further work:\n",
    "Analysis after getting rid of anomaly(outlier)\n",
    "Better prediction model - grid search & other models & dl(but not sufficient data?)"
   ]
  }
 ],
 "metadata": {
  "kernelspec": {
   "display_name": "Python 3 (ipykernel)",
   "language": "python",
   "name": "python3"
  },
  "language_info": {
   "codemirror_mode": {
    "name": "ipython",
    "version": 3
   },
   "file_extension": ".py",
   "mimetype": "text/x-python",
   "name": "python",
   "nbconvert_exporter": "python",
   "pygments_lexer": "ipython3",
   "version": "3.7.3"
  },
  "vscode": {
   "interpreter": {
    "hash": "0f83aefe8264fb1a009e1d3c753096a20a50abff969f7f6f1a152bbb5c31731d"
   }
  }
 },
 "nbformat": 4,
 "nbformat_minor": 5
}
